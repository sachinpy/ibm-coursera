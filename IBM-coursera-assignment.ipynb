{
    "cells": [
        {
            "metadata": {
                "collapsed": true
            },
            "cell_type": "markdown",
            "source": "# My Jupyter Notebook on IBM Watson Studio"
        },
        {
            "metadata": {},
            "cell_type": "markdown",
            "source": "**Sachin Patil**  \nDesired occupation - Data Scientist"
        },
        {
            "metadata": {},
            "cell_type": "markdown",
            "source": "*I am interested in data science because using tool of data science and machine learning one can solve ploblems.In the decision driven world it is important to make right decisions and data science*"
        },
        {
            "metadata": {},
            "cell_type": "markdown",
            "source": "### Following code adds two variables x and y"
        },
        {
            "metadata": {},
            "cell_type": "code",
            "source": "x = 4\ny = 6\nprint(x+y)",
            "execution_count": 3,
            "outputs": [
                {
                    "output_type": "stream",
                    "text": "10\n",
                    "name": "stdout"
                }
            ]
        },
        {
            "metadata": {},
            "cell_type": "markdown",
            "source": "Horizontal rule\n***\n\nBulleted List\n* item 1\n* item 2\n* item 3\n\n---\nNumbered List\n1. item 1\n2. item 2\n3. item 3\n---\n\n\n\nTable\n\n\n| Rank | Country / Dependency | UN Region |   Population   | Percentage of the world |\n|:----:|:--------------------:|:---------:|:--------------:|-----------------------|\n|  \u2013   | World                |           |  7,963,947,000 |                    100% |  \n|  1   |  China              |    Asia   |  1,412,600,000 |                  17.7%  |   \n|  2   |  India              |    Asia   |  1,373,761,000 |                  17.2%  |   \n|  3   |  United States      |  Americas |    332,884,323 |                   4.18% |   \n|  4   |  Indonesia          |  Asia  |    272,248,500 |                  3.42%  |   \n|  5   |  Pakistan           |    Asia   |    229,488,994 |                  2.88%  |   \n|  6   |  Nigeria            |   Africa  |    216,746,934 |                  2.72%  | \n|  7   |  Brazil             |  Americas |    214,882,181 |                   2.70% |  \n|  8   |  Bangladesh         |    Asia   |    168,220,000 |                  2.11%  |   \n|  9   |  Russia             | Europe |    147,190,000 |                  1.85%  |  \n|  10  |  Mexico             |  Americas |    128,271,248 |                  1.61%  |  \n\n---\n\nHyperlink\n[Python Docs](https://docs.python.org/3/)\n\n---\n\nImage - World Map\n![World Map](https://upload.wikimedia.org/wikipedia/commons/thumb/9/91/Winkel_triple_projection_SW.jpg/450px-Winkel_triple_projection_SW.jpg)\n\n\n---\nCode/Syntax Highlighting\n```py\nprint('Hello World')\n\nx=4\ny=3\nprint(x+y)\n```\n___\n\nBlocked Quotes\n>Lorem ipsum dolor sit amet, consectetur adipiscing elit\n---\n\nStrikethrough  \n ~~Lorem ipsum dolor sit amet, consectetur adipiscing elit~~"
        },
        {
            "metadata": {},
            "cell_type": "code",
            "source": "",
            "execution_count": null,
            "outputs": []
        }
    ],
    "metadata": {
        "kernelspec": {
            "name": "python3",
            "display_name": "Python 3.9",
            "language": "python"
        },
        "language_info": {
            "name": "python",
            "version": "3.9.12",
            "mimetype": "text/x-python",
            "codemirror_mode": {
                "name": "ipython",
                "version": 3
            },
            "pygments_lexer": "ipython3",
            "nbconvert_exporter": "python",
            "file_extension": ".py"
        }
    },
    "nbformat": 4,
    "nbformat_minor": 1
}